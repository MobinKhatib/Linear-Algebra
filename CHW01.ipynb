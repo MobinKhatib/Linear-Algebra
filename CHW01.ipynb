{
 "cells": [
  {
   "cell_type": "markdown",
   "id": "0de8571c",
   "metadata": {
    "editable": false
   },
   "source": [
    "# Python Assignment 1\n",
    "\n",
    "### Prof. S. Amini\n",
    "\n",
    "### Mathematical Methods In Engineering - 1401-01\n",
    "\n",
    "### Deadline: ?\n",
    "\n",
    "---"
   ]
  },
  {
   "cell_type": "markdown",
   "id": "5fd219f4",
   "metadata": {
    "editable": false
   },
   "source": [
    "This assignment consists of two problems: In the first one, you're going to use Gauss-Jordan elimination to calculate `LU` factorization of a given matrix, and in the second problem you'll use the same technique to calculate the inverse of a matrix.\n",
    "\n",
    "Each problem has two cells: A `Code Cell`, and an `Evaluation Cell`. You should write your code in the `Code Cell`s and then run the `Evaluation Cell` to check the correctness of your code. **Please do not edit the codes in the Evaluation Cells.**\n",
    "\n",
    "Before jumping into the code, read the following section to get familiar with `Gauss transformations`, which helps you do eliminations more efficiently."
   ]
  },
  {
   "cell_type": "markdown",
   "id": "a9aeba32",
   "metadata": {
    "editable": false
   },
   "source": [
    "## Gauss Transformation\n",
    "\n",
    "As you have learned in the class, in `Gauss-Jordan elimination`, each time we choose a pivot, we try to eliminate the elements below that pivot. This can be achieved using something called `Gauss Transformation`.\n",
    "\n",
    "Consider an arbitrary vector $\\textbf{v}$ where $v_k \\neq 0$\n",
    "\n",
    "$$ \\textbf{v} = \n",
    "\\begin{bmatrix}\n",
    "v_1 \\\\\n",
    "\\vdots \\\\\n",
    "v_{k-1} \\\\\n",
    "v_k \\\\\n",
    "v_{k+1} \\\\\n",
    "\\vdots \\\\\n",
    "v_n\n",
    "\\end{bmatrix}\n",
    "$$\n",
    "\n",
    "\n",
    "We need a matrix such when applied to $\\textbf{v}$, the elements below $v_k$ become zero. You can check that the `Gauss Matrix` $\\textbf{M}_k$, defined as below, does this for us.\n",
    "\n",
    "\n",
    "$$ \\textbf{t}^{(k)} = \n",
    "\\begin{bmatrix}\n",
    "0 \\\\\n",
    "\\vdots \\\\\n",
    "0 \\\\\n",
    "t_{k+1} \\\\\n",
    "\\vdots \\\\\n",
    "t_n\n",
    "\\end{bmatrix}, \\; \\; \\;\n",
    "t_i = \\frac{v_i}{v_k} \\; \\; \\; \\; for \\; \\; i=k+1:n\n",
    "$$\n",
    "\n",
    "$$ \\textbf{M}_k = \\textbf{I}_n - \\textbf{t}^{(k)}\\textbf{e}_k^T $$\n",
    "\n",
    "Where $\\textbf{e}_k$ is the k-th column of the $n \\times n$ identity matrix $\\textbf{I}_n$. Using the matrix-vector multiplication intuition you've learned in the class, you can easily check that the following equality holds:\n",
    "\n",
    "$$ \\textbf{M}_k \\textbf{v} = \n",
    "\\begin{bmatrix}\n",
    "1 & \\ldots & 0 & 0 & \\ldots & 0 \\\\\n",
    "\\vdots && \\vdots & \\vdots && \\vdots \\\\\n",
    "0 && 1 & 0 && 1 \\\\\n",
    "0 & \\ldots & -t_{k+1} & 1 & \\ldots & 0 \\\\\n",
    "\\vdots && \\vdots & \\vdots && \\vdots \\\\\n",
    "0 & \\ldots & -t_n & 0 & \\ldots & 1 \\\\\n",
    "\\end{bmatrix}\n",
    "%\n",
    "\\begin{bmatrix}\n",
    "v_1 \\\\\n",
    "\\vdots \\\\\n",
    "v_{k-1} \\\\\n",
    "v_k \\\\\n",
    "v_{k+1} \\\\\n",
    "\\vdots \\\\\n",
    "v_n\n",
    "\\end{bmatrix} = \n",
    "%\n",
    "\\begin{bmatrix}\n",
    "v_1 \\\\\n",
    "\\vdots \\\\\n",
    "v_{k-1} \\\\\n",
    "v_k \\\\\n",
    "0 \\\\\n",
    "\\vdots \\\\\n",
    "0\n",
    "\\end{bmatrix}\n",
    "$$\n",
    "\n",
    "The matrix $\\textbf{M}_k$ is called a `Gauss matrix`, and the vector $ \\textbf{t}^{(k)} $ is called the `Gauss vector`.\n",
    "\n",
    "---\n",
    "\n",
    "Before start coding, think about the following questions carefully, as you will use these relations in your code. You don't need to provide their answers in your homework, they're merely for your better understanding.\n",
    "\n",
    "### Question 1\n",
    "Investigate what happens to the rows of a matrix if you multiply it by a Gauss matrix?\n",
    "In other words, if $\\textbf{B} = \\textbf{M}_k \\textbf{A}$, what's the relation between $\\textbf{B}[i, :]$ and $\\textbf{A}[i, :]$ ?\n",
    "\n",
    "### Question 2\n",
    "Show that $$ \\textbf{M}_k^{-1} = \\textbf{I}_n + \\textbf{t}^{(k)}\\textbf{e}_k^T $$\n",
    "\n",
    "---"
   ]
  },
  {
   "cell_type": "code",
   "execution_count": 2,
   "id": "69a7b815",
   "metadata": {
    "editable": false
   },
   "outputs": [],
   "source": [
    "# import required packages\n",
    "import numpy as np\n",
    "import time"
   ]
  },
  {
   "cell_type": "markdown",
   "id": "8eb1dbee",
   "metadata": {
    "editable": false
   },
   "source": [
    "## 1. LU Factorization\n",
    "\n",
    "**Definition**\n",
    "An $n \\times n$ matrix $\\textbf{A}$ is said to have an LU decomposition if and only if there exist a lower triangular $n \\times n$ matrix $\\textbf{L}$ and an upper triangular $n \\times n$ matrix $\\textbf{U}$ such that:\n",
    "\n",
    "$$ \\textbf{A} = \\textbf{LU} $$\n",
    "\n",
    "Please keep in mind that not all square matrices have LU decomposition, and it may be necessary to permute the rows of a matrix before obtaining its LU factorization. In this problem, we assume that the elimination process does not require any row permutation."
   ]
  },
  {
   "cell_type": "code",
   "execution_count": 1,
   "id": "595c53c0",
   "metadata": {},
   "outputs": [],
   "source": [
    "def LU_factorization(A):   \n",
    "  #At first our definition for U and L is:\n",
    "  L = np.eye(n)\n",
    "  U = A\n",
    "  # U is upper triangular matrix & L is is lower triangular matrix\n",
    "  for i in range(0,n-1):\n",
    "    for j in range(i+1,n):\n",
    "      E = np.eye(n)\n",
    "      E[j][i] = -1*U[j][i]/U[i][i]\n",
    "      U = np.dot(E,U)\n",
    "      L = np.dot(L,np.linalg.inv(E))\n",
    "  return L, U"
   ]
  },
  {
   "cell_type": "code",
   "execution_count": 3,
   "id": "523e14ea",
   "metadata": {
    "editable": false
   },
   "outputs": [
    {
     "name": "stdout",
     "output_type": "stream",
     "text": [
      "status: successful, time elapsed: 0.0665 seconds\n"
     ]
    }
   ],
   "source": [
    "# Evaluation Cell\n",
    "\n",
    "n = 10\n",
    "A = np.random.randn(n, n)\n",
    "s = time.time()\n",
    "L, U = LU_factorization(A.copy())\n",
    "elapsed = time.time() - s\n",
    "\n",
    "assert np.linalg.norm(L - np.tril(L)) < 1e-10, \"L is not lower triangular\"\n",
    "assert np.linalg.norm(U - np.triu(U)) < 1e-10, \"U is not upper triangular\"\n",
    "assert np.linalg.norm(A - L @ U) < 1e-10, \"L and U does not satisfy A = L @ U\"\n",
    "\n",
    "print(f'status: successful, time elapsed: {np.round(elapsed, 5)} seconds')"
   ]
  },
  {
   "cell_type": "markdown",
   "id": "5d951675",
   "metadata": {
    "editable": false
   },
   "source": [
    "## 2. Inverse of Matrix\n",
    "\n",
    "**Definition**\n",
    "Let $\\textbf{A}$ be an $n \\times n$ matrix. Its inverse, if it exists, is the $n \\times n$ matrix $\\textbf{A}^{-1}$ such that\n",
    "\n",
    "$$ \\textbf{AA}^{-1} = \\textbf{I} $$\n",
    "\n",
    "Where $\\textbf{I}$ is the $n \\times n$ identity matrix. If $\\textbf{A}^{-1}$ exists, we say that $\\textbf{A}$ is invertible. Similar to the previous section, not all square matrices are invertible, but you don't need to worry about this issue in this problem."
   ]
  },
  {
   "cell_type": "code",
   "execution_count": 4,
   "id": "e1063a57",
   "metadata": {},
   "outputs": [],
   "source": [
    "def inverse(A):\n",
    "    #Getting the inverse of the matrix by Gauss-Jordan's method\n",
    "    # 1 - Forming augmented matrix(D is augmented matrix)\n",
    "    I = np.eye(n)\n",
    "    D = np.hstack((A, I))\n",
    "    # 2 - Forming the upper triangular matrix\n",
    "    for i in range(0,n):\n",
    "      for j in range(i+1,n):\n",
    "        E = np.eye(n)\n",
    "        E[j][i] = -1*D[j][i]/D[i][i]\n",
    "        D = np.dot(E,D)\n",
    "    # 3 - Removing the non-zero element above the pivot\n",
    "    for i in range(1,n):\n",
    "      for j in range(0,i+1):\n",
    "        E = np.eye(n)\n",
    "        E[j][i] = -1*D[j][i]/D[i][i]  \n",
    "        D = np.dot(E,D)\n",
    "    # 4 - Divide each row into pivots\n",
    "    for i in range(0,n):\n",
    "        D[i] = D[i]/D[i][i]\n",
    "    A_inv = D[:,n:2*n]\n",
    "    return A_inv"
   ]
  },
  {
   "cell_type": "code",
   "execution_count": 5,
   "id": "22288cb5",
   "metadata": {
    "editable": false
   },
   "outputs": [
    {
     "name": "stdout",
     "output_type": "stream",
     "text": [
      "status: successful, time elapsed: 0.00536 seconds\n"
     ]
    }
   ],
   "source": [
    "# Evaluation Cell\n",
    "\n",
    "n = 3\n",
    "A = np.random.rand(n, n) + n * np.eye(n, n)\n",
    "s = time.time()\n",
    "A_inv = inverse(A.copy())\n",
    "elapsed = time.time() - s\n",
    "\n",
    "assert np.linalg.norm(A @ A_inv - np.eye(n, n)) < 1e-10, \"A_inv does not satisfy A @ A_inv = I\"\n",
    "\n",
    "print(f'status: successful, time elapsed: {np.round(elapsed, 5)} seconds')"
   ]
  }
 ],
 "metadata": {
  "kernelspec": {
   "display_name": "Python 3 (ipykernel)",
   "language": "python",
   "name": "python3"
  },
  "language_info": {
   "codemirror_mode": {
    "name": "ipython",
    "version": 3
   },
   "file_extension": ".py",
   "mimetype": "text/x-python",
   "name": "python",
   "nbconvert_exporter": "python",
   "pygments_lexer": "ipython3",
   "version": "3.8.8"
  }
 },
 "nbformat": 4,
 "nbformat_minor": 5
}
