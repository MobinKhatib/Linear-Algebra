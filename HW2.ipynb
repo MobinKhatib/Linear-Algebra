{
 "cells": [
  {
   "cell_type": "markdown",
   "id": "4082b8b3",
   "metadata": {},
   "source": [
    "# Python Assignment 2\n",
    "\n",
    "### Prof. S. Amini\n",
    "\n",
    "### Mathematical Methods In Engineering - 1401-01\n",
    "\n",
    "### Deadline: ?\n",
    "\n",
    "___\n",
    "\n",
    "### Householder Transformation\n",
    "In this assignment we become familiar with QR factorization, The algorithm we want to use for the first question is the \"householder transformation\".\n",
    "As you learned in the previous assignment, we can use the Gauss's transformation to eliminate the elements below matrix pivots. Householder transformation can be used like that, but with a partially different approach.\n",
    "\n",
    "let <b>v</b> be an arbitrary vector and $$v\\neq0$$ we call P the householder matrix if:$$P = I-\\beta vv^T  ,     \n",
    " \\beta=\\frac{2}{v^Tv}$$\n",
    "___ \n",
    "\n",
    "1. prove that HH matrix is an orthogonal matrix.\n",
    "\n",
    "\n",
    "2. if $\\textbf{Q}\\textbf{Q}{^T}={I}$ show that:$$||Q \\textbf x ||=||\\textbf x ||$$\n",
    "____\n",
    "note:\n",
    "\n",
    "\n",
    "if we have $\\textbf P\\textbf s=\\textbf t$ which ||<b>s</b>||=||<b>t</b>|| and <b>s</b>$\\neq$<b>t</b> we can choose:\n",
    "\n",
    "$$\\textbf{v}=\\textbf{t}-\\textbf{x}$$\n",
    "___"
   ]
  },
  {
   "cell_type": "markdown",
   "id": "70ae7ba4",
   "metadata": {},
   "source": [
    "### 1. QR factorization\n",
    "\n",
    "$\\textbf {Definition}$ All $\\textbf{A}_{m\\times n}$ matrix have QR factorization where Q is an orthonormal matrix and R is an upper triangular matrix.$$A=QR$$\n",
    "\n",
    "Using the HH matrix, complete the code cells below to create an algorithm for finding QR factorization of matrix A."
   ]
  },
  {
   "cell_type": "code",
   "execution_count": 1,
   "id": "158d798c",
   "metadata": {},
   "outputs": [],
   "source": [
    "# import numpy package\n",
    "import numpy as np"
   ]
  },
  {
   "cell_type": "code",
   "execution_count": 2,
   "id": "e2393cbb",
   "metadata": {},
   "outputs": [],
   "source": [
    "def my_QR(A):\n",
    "    \"\"\"\n",
    "    inputs:\n",
    "        A (numpy ndarray): input matrix\n",
    "    outputs:\n",
    "        Q (numpy ndarray): orthonormal matrix\n",
    "        R (numpy ndarray): upper triangular matrix\n",
    "    \n",
    "    \"\"\"\n",
    "    Q=np.zeros((m, n))\n",
    "    for j in range(0,n):\n",
    "       for i in range(0,j):\n",
    "        Q[:,j] = A[:,j] - np.dot(np.dot(np.transpose(Q[:,i]),A[:,i])/np.dot(np.transpose(Q[:,i]),Q[:,i]),Q[:,i])\n",
    "        \n",
    "    R = np.dot(np.transpose(Q),A)\n",
    "    return Q,R"
   ]
  },
  {
   "cell_type": "code",
   "execution_count": 3,
   "id": "37e84a0c",
   "metadata": {},
   "outputs": [
    {
     "name": "stderr",
     "output_type": "stream",
     "text": [
      "<ipython-input-2-a7cd9cf493f5>:13: RuntimeWarning: invalid value encountered in double_scalars\n",
      "  Q[:,j] = A[:,j] - np.dot(np.dot(np.transpose(Q[:,i]),A[:,i])/np.dot(np.transpose(Q[:,i]),Q[:,i]),Q[:,i])\n"
     ]
    },
    {
     "name": "stdout",
     "output_type": "stream",
     "text": [
      "numpy| test ---> {'upper-triangular and  orthogonal test error': 4.1307655829445565e-15, 'correctness test error': 2.1345022245974468e-14}\n",
      "yours| test ---> {'upper-triangular and  orthogonal test error': nan, 'correctness test error': nan}\n",
      "yours| check ---> {'upper-triangular and  orthogonal test error': False, 'correctness test error': False}\n"
     ]
    }
   ],
   "source": [
    "# time and correctness test\n",
    "numpy_test = {'upper-triangular and  orthogonal test error':0.0, 'correctness test error':0.0}\n",
    "yours_test = {'upper-triangular and  orthogonal test error':0.0, 'correctness test error':0.0}\n",
    "\n",
    "num_test = 50\n",
    "for i in range(num_test):\n",
    "    m, n = np.random.randint(40, 50), np.random.randint(40, 50)\n",
    "    A = np.random.randn(m,n)\n",
    "\n",
    "    # numpy code\n",
    "    Q, R = np.linalg.qr(A.copy(), mode='complete')\n",
    "    numpy_test['upper-triangular and  orthogonal test error'] += np.linalg.norm(np.tril(R,-1)) + np.linalg.norm(np.eye(m) - Q @ Q.T)\n",
    "    numpy_test['correctness test error'] += np.linalg.norm(A - Q @ R)\n",
    "\n",
    "     ### To Do ###\n",
    "    \n",
    "    my_Q, my_R = my_QR(A.copy())\n",
    "    yours_test['upper-triangular and  orthogonal test error'] += np.linalg.norm(np.tril(my_R,-1)) + np.linalg.norm(np.eye(m) - my_Q @ my_Q.T)\n",
    "    yours_test['correctness test error'] += np.linalg.norm(A - my_Q @ my_R)\n",
    "\n",
    "for name in numpy_test:\n",
    "    numpy_test[name] /= num_test\n",
    "    yours_test[name] /= num_test\n",
    "\n",
    "yours_check = {'upper-triangular and  orthogonal test error': yours_test['upper-triangular and  orthogonal test error'] <= 1e-5, \n",
    "               'correctness test error': yours_test['correctness test error'] <= 1e-5}\n",
    "\n",
    "print(f'numpy| test ---> {numpy_test}')\n",
    "print(f'yours| test ---> {yours_test}')\n",
    "print(f'yours| check ---> {yours_check}')"
   ]
  },
  {
   "cell_type": "markdown",
   "id": "c86b571f",
   "metadata": {},
   "source": [
    "### Least Squares\n",
    "As you learned in the course, the least squares method is a way of estimating a function given sample points $$(x_i, y_i), \\quad  0 \\leq i \\leq n$$ with the assumption of linearity of the underlying function.\n",
    "1. Create n=10 sample points $(x_i, y_i)$ where $$y_i = 2x_i + 3 + \\epsilon_i$$ $\\epsilon_i$ is an error term (measurement error etc.) added to $y_i$ and is modeled by random variables: $\\epsilon_i \\stackrel{iid}{\\sim} \\mathcal{N}(0, 1) $  . The x's should range from 0 to 5 and be evenly spaced (hint: use numpy's linspace function)\n",
    "\n",
    "2. Given the samples of the previous part, try to estimate a linear function that models the relationship between $x_i$'s and $y_i$'s using the least squares method (find a and b such that the error function $\\sum_{i=0}^{n-1} ||ax_i + b - y_i||^2$ is minimized)\n",
    "\n",
    "3. Plot the sample points and the line you estimated in the previous part in the same graph using matplotlib.\n",
    "\n",
    "4. Plot the error function $\\sum_{i=0}^{n-1} ||ax_i + b - y_i||^2$ as a function of n where $10\\leq n \\leq 50$ and a and b are the least squares estimates of the line $ax + b = y$.\n",
    "\n",
    "5. Repeat part 1 but this time create n=20 sample points with a quadratic term added to y: $$y_i = x^2_i + 2x_i + 3 + \\epsilon_i$$ $\\epsilon_i$ has the same distribution as before and x's range from 0 to 5 likewise.\n",
    "\n",
    "6. Try to use the least squares method to estimate the coefficients of the quadratic function given the sample points of part 5 (hint: in the least squares method we minimze the norm of the error vector $||Ax-y||^2$. Add a column to matrix A for the quadratic terms and then try to minimize the error function using the least squares method).\n",
    "\n",
    "7. Repeat part 3 for the estimated quadratic function of the previous part."
   ]
  },
  {
   "cell_type": "code",
   "execution_count": 6,
   "id": "860a42c2",
   "metadata": {},
   "outputs": [],
   "source": [
    "import numpy\n",
    "import matplotlib.pyplot as plt"
   ]
  },
  {
   "cell_type": "code",
   "execution_count": 7,
   "id": "c53c703d",
   "metadata": {},
   "outputs": [
    {
     "name": "stdout",
     "output_type": "stream",
     "text": [
      "2.8101365951575725 1.9305540489570283\n"
     ]
    },
    {
     "data": {
      "image/png": "[encoded data removed]",
      "text/plain": [
       "<Figure size 432x288 with 1 Axes>"
      ]
     },
     "metadata": {
      "needs_background": "light"
     },
     "output_type": "display_data"
    }
   ],
   "source": [
    "#Question2\n",
    "#1 and 2\n",
    "x = np.linspace(0.0, 5.0, num = 10)\n",
    "n = 10\n",
    "mu, sigma = 0, 1\n",
    "e = np.random.normal(mu, sigma, 10)\n",
    "y = 2*x + 3 + e\n",
    "X = np.zeros((n, 2))\n",
    "A = np.zeros((2, 1))\n",
    "Error_Function = np.zeros((1, n))\n",
    "for i in range(0,n):\n",
    "  X[i,0] = 1\n",
    "  X[i,1] = x[i]\n",
    "  \n",
    "Error_Function = np.dot(np.dot(numpy.linalg.inv(np.dot(np.transpose(X), X)) ,np.transpose(X)), np.transpose(y))\n",
    "#print(Error_Function)\n",
    "\n",
    "a = Error_Function[0]\n",
    "b = Error_Function[1]\n",
    "\n",
    "print(a,b)\n",
    "#3\n",
    "\n",
    "y1 = a*x + b  \n",
    "plt.plot(x, y)\n",
    "plt.plot(x, y1)\n",
    "plt.title('plot sample with least squeare answer')\n",
    "plt.xlabel('x_axis')\n",
    "plt.ylabel('y_axis')\n",
    "plt.show()\n"
   ]
  },
  {
   "cell_type": "code",
   "execution_count": 8,
   "id": "cbbea412",
   "metadata": {},
   "outputs": [
    {
     "data": {
      "image/png": "[encoded data removed]",
      "text/plain": [
       "<Figure size 432x288 with 1 Axes>"
      ]
     },
     "metadata": {
      "needs_background": "light"
     },
     "output_type": "display_data"
    }
   ],
   "source": [
    "#4\n",
    "mu, sigma  = 0, 1 \n",
    "e1 = np.zeros(40)\n",
    "for n in range(10,50):\n",
    "  x = np.linspace(0.0, 5.0, num = n)\n",
    "  e = np.random.normal(mu, sigma, n) \n",
    "  y = 2*x + 3 + e\n",
    "  X = np.zeros((n, 2))  \n",
    "  Error_Function = np.zeros((1, n))\n",
    "  for i in range(0,n):\n",
    "    X[i,0] = 1\n",
    "    X[i,1] = x[i]\n",
    "  Error_Function = np.dot(np.dot(numpy.linalg.inv(np.dot(np.transpose(X), X)) ,np.transpose(X)), np.transpose(y))\n",
    "  a = Error_Function[0]\n",
    "  b = Error_Function[1]  \n",
    "  y1 = a*x + b\n",
    "  e1[n-10] =sum((y - y1)**2)\n",
    "plt.plot(np.arange(10,50,1), e1)\n",
    "plt.title('plot sample with least squeare answer')\n",
    "plt.xlabel('x_axis')\n",
    "plt.ylabel('y_axis')\n",
    "plt.show()\n"
   ]
  },
  {
   "cell_type": "code",
   "execution_count": 9,
   "id": "70b8725d",
   "metadata": {},
   "outputs": [
    {
     "name": "stdout",
     "output_type": "stream",
     "text": [
      "3.27723764022825 1.582812242301519 1.0937549332897245\n"
     ]
    },
    {
     "data": {
      "image/png": "[encoded data removed]",
      "text/plain": [
       "<Figure size 432x288 with 1 Axes>"
      ]
     },
     "metadata": {
      "needs_background": "light"
     },
     "output_type": "display_data"
    }
   ],
   "source": [
    "#5 and 6\n",
    "x = np.linspace(0.0, 5.0, num = 20)\n",
    "n = 20\n",
    "mu, sigma = 0, 1\n",
    "e = np.random.normal(mu, sigma, 20)\n",
    "y = x**2 + 2*x + 3 + e\n",
    "X = np.zeros((n, 3))\n",
    "A = np.zeros((2, 1))\n",
    "Error_Function = np.zeros((1, n))\n",
    "for i in range(0,n):\n",
    "  X[i,0] = 1\n",
    "  X[i,1] = x[i]\n",
    "  X[i,2] = x[i]**2\n",
    "Error_Function = np.dot(np.dot(numpy.linalg.inv(np.dot(np.transpose(X), X)) ,np.transpose(X)), np.transpose(y))\n",
    "#print(Error_Function)\n",
    "\n",
    "a = Error_Function[0]\n",
    "b = Error_Function[1]\n",
    "c = Error_Function[2]\n",
    "\n",
    "print(a,b,c)\n",
    "\n",
    "#7\n",
    "#for i in range(0,n):\n",
    "y1 = a*x**2 + b*x + c  \n",
    "plt.plot(x, y)\n",
    "plt.plot(x, y1)\n",
    "plt.title('plot sample with least squeare answer')\n",
    "plt.xlabel('x_axis')\n",
    "plt.ylabel('y_axis')\n",
    "plt.show()"
   ]
  }
 ],
 "metadata": {
  "kernelspec": {
   "display_name": "Python 3",
   "language": "python",
   "name": "python3"
  },
  "language_info": {
   "codemirror_mode": {
    "name": "ipython",
    "version": 3
   },
   "file_extension": ".py",
   "mimetype": "text/x-python",
   "name": "python",
   "nbconvert_exporter": "python",
   "pygments_lexer": "ipython3",
   "version": "3.8.8"
  },
  "vscode": {
   "interpreter": {
    "hash": "26de051ba29f2982a8de78e945f0abaf191376122a1563185a90213a26c5da77"
   }
  }
 },
 "nbformat": 4,
 "nbformat_minor": 5
}
