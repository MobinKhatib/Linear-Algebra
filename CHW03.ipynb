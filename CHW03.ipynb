{
  "cells": [
    {
      "cell_type": "markdown",
      "metadata": {
        "id": "aMv2almRJGdJ"
      },
      "source": [
        "<div dir = rtl>\n",
        "\n",
        "**روش های ریاضی در مهندسی- تمرین کامپیوتری**\n",
        "\n",
        "بلوک هایی که در ابتدای آن !Complete this part نوشته شده است نیاز به تکمیل دارند. در این بلوک ها قسمت هایی با کامنت مشخص شده اند که کد شما باید در آن قسمت ها قرار بگیرد.\n",
        "\n",
        "سوالات خود را می توانید از @AmirhosseinM79 بپرسید.\n",
        "\n",
        "\n",
        "\n",
        "---\n",
        "\n",
        "\n",
        "\n",
        "\n",
        "</div>"
      ]
    },
    {
      "cell_type": "code",
      "execution_count": 8,
      "metadata": {
        "id": "CELe2yckKYJz"
      },
      "outputs": [],
      "source": [
        "import numpy as np"
      ]
    },
    {
      "cell_type": "markdown",
      "metadata": {
        "id": "ZpgGg5O6ILe3"
      },
      "source": [
        "<div dir = rtl>\n",
        "در این تمرین به بررسی یک روش محاسبه مقادیر و بردارهای ویژه یک ماتریس به صورت عددی می پردازیم.\n",
        "ابتدا در قسمت زیر، یک ماتریس 3 در 3 قطری شدنی را می سازیم.\n",
        "\n",
        "</div>"
      ]
    },
    {
      "cell_type": "code",
      "execution_count": 9,
      "metadata": {
        "id": "sYZSIMs6KE_m",
        "colab": {
          "base_uri": "https://localhost:8080/"
        },
        "outputId": "b082398a-2d1c-444d-ba58-fda2d0bfadca"
      },
      "outputs": [
        {
          "output_type": "stream",
          "name": "stdout",
          "text": [
            "A =  [[-3.23907944  0.87449233  0.57061421]\n",
            " [ 0.87449233  2.92152621  1.02407503]\n",
            " [ 0.57061421  1.02407503 -2.94928381]]\n"
          ]
        }
      ],
      "source": [
        "## Do not change anything in this section!\n",
        "\n",
        "W = np.random.randn(3,3)\n",
        "Q,R = np.linalg.qr(W)\n",
        "\n",
        "D = np.random.uniform(low = 1, high = 10, size = 3)\n",
        "D = D * np.random.choice([-1,1],3)\n",
        "\n",
        "A = Q @ np.diag(D) @ Q.T\n",
        "\n",
        "print(\"A = \",A)"
      ]
    },
    {
      "cell_type": "markdown",
      "metadata": {
        "id": "XSU5nttoNxfE"
      },
      "source": [
        "<div dir = rtl>\n",
        "با استفاده از دستور np.linalg.eig ماتریس A را قطری سازی کنید. در این مرحله کافی است که یک ماتریس قطری از مقادیر ویژه به نام D و یک ماتریس V که شامل بردار های ویژه است را برگردانید. همچنین با استفاده از مقادیر به دست آمده ماتریس A را بازسازی کنید و با قسمت قبل مقایسه کنید."
      ]
    },
    {
      "cell_type": "code",
      "execution_count": 21,
      "metadata": {
        "id": "ooplkgqiJF_W",
        "colab": {
          "base_uri": "https://localhost:8080/"
        },
        "outputId": "f034ec36-e0b7-40a5-ad63-c336e93b1264"
      },
      "outputs": [
        {
          "output_type": "stream",
          "name": "stdout",
          "text": [
            "Eigenvalues =  [[ 3.23720259 -3.6836527  -2.82038692]] \n",
            "\n",
            "Eigenvectors = \n",
            " [[-0.14685947 -0.79771667  0.58487641]\n",
            " [-0.9736059   0.01213771 -0.22791275]\n",
            " [-0.17471074  0.60291027  0.7784442 ]] \n",
            "\n",
            "B =  [[-3.23907944  0.87449233  0.57061421]\n",
            " [ 0.87449233  2.92152621  1.02407503]\n",
            " [ 0.57061421  1.02407503 -2.94928381]]\n"
          ]
        }
      ],
      "source": [
        "# Complete this part!\n",
        "## your code here\n",
        "eigenvalues, eigenvectors = np.linalg.eig(A)\n",
        "D = np.diag(eigenvalues)\n",
        "V = eigenvectors\n",
        "B = V @ D @ np.linalg.inv(V)\n",
        "print(\"Eigenvalues = \", (D @ np.array([[1],[1],[1]])).T,\"\\n\") \n",
        "print(\"Eigenvectors = \\n\", V,\"\\n\")\n",
        "print(\"B = \", B)"
      ]
    },
    {
      "cell_type": "markdown",
      "metadata": {
        "id": "Iq68Uxe-WEgR"
      },
      "source": [
        "<div dir = rtl>\n",
        "توجه کنید که ماتریس A با ضرب در هر بردار غیر صفر دیگری، یک بردار غیر صفر نتیجه می دهد. (چرا؟)\n",
        "یک بردار دلخواه غیر 0 به نام x بسازید و ماتریس A را در آن ضرب کنید. همچنین پاسخ را نرمالیزه کنید. همین کار را برای توان های بالاتر A مثل 2، 10، 15 و 50 تکرار کنید. در این قسمت از تابع matrix_power می توانید استفاده کنید.\n",
        "</div>\n",
        "\n"
      ]
    },
    {
      "cell_type": "code",
      "execution_count": 24,
      "metadata": {
        "id": "Lqein5_XJDso",
        "colab": {
          "base_uri": "https://localhost:8080/"
        },
        "outputId": "f6ac1414-a0bf-4094-bb61-552aab2f0cb7"
      },
      "outputs": [
        {
          "output_type": "stream",
          "name": "stdout",
          "text": [
            "x1 =  [[-0.63846588]\n",
            " [ 0.11009781]\n",
            " [ 0.76173473]] \n",
            "\n",
            "x2 =  [[ 0.71290084]\n",
            " [ 0.14905311]\n",
            " [-0.68524124]] \n",
            "\n",
            "x10 =  [[ 0.79303531]\n",
            " [ 0.03792249]\n",
            " [-0.60799414]] \n",
            "\n",
            "x15 =  [[-0.79104054]\n",
            " [ 0.03513836]\n",
            " [ 0.61075376]] \n",
            "\n",
            "x50 =  [[ 0.79775591]\n",
            " [-0.01187568]\n",
            " [-0.60286357]] \n",
            "\n"
          ]
        }
      ],
      "source": [
        "# Complete this part!\n",
        "\n",
        "x = np.random.randn(3,1)\n",
        "\n",
        "y1 = A @ x \n",
        "x1 = y1 / np.linalg.norm(y1)\n",
        "y2 = np.linalg.matrix_power(A, 2) @ x\n",
        "x2 = y2 / np.linalg.norm(y2)\n",
        "y10 = np.linalg.matrix_power(A, 10) @ x\n",
        "x10 = y10 / np.linalg.norm(y10)\n",
        "y15 = np.linalg.matrix_power(A, 15) @ x\n",
        "x15 = y15 / np.linalg.norm(y15)\n",
        "y50 = np.linalg.matrix_power(A, 50) @ x\n",
        "x50 = y50 / np.linalg.norm(y50)\n",
        "\n",
        "# Print the resulting matrices\n",
        "print(\"x1 = \",x1,\"\\n\")\n",
        "print(\"x2 = \",x2,\"\\n\")\n",
        "print(\"x10 = \",x10,\"\\n\")\n",
        "print(\"x15 = \",x15,\"\\n\")\n",
        "print(\"x50 = \",x50,\"\\n\")\n"
      ]
    },
    {
      "cell_type": "markdown",
      "metadata": {
        "id": "yHhyx4Hya8rM"
      },
      "source": [
        "<div dir = rtl>\n",
        "با افزایش توان A چه الگویی را مشاهده می کنید؟ به ماتریس شامل بردارهای ویژه توجه کنید و آن را با بردارهای حاصل از این بخش مقایسه کنید. بردار حاصل از این روند، متناظر با کدام مقدار ویژه است؟ برای اطمینان در مورد برداشت صحیح، می توانید قسمت اول را دوباره ران کنید و با ماتریس جدید همین روند را طی کنید.\n",
        "</div>\n",
        "<div dir = rtl>\n",
        "با استفاده از این نتیجه، مقدار ویژه با بزرگترین اندازه A و بردار ویژه متناظر آن را بیابید. با توجه به روش ارائه شده این مقدار تقریبی است.\n",
        "</div>\n"
      ]
    },
    {
      "cell_type": "code",
      "execution_count": 29,
      "metadata": {
        "id": "8yLS1xgoinp8",
        "colab": {
          "base_uri": "https://localhost:8080/"
        },
        "outputId": "a19252c5-5f8d-444d-dd88-ae12c08eece7"
      },
      "outputs": [
        {
          "output_type": "stream",
          "name": "stdout",
          "text": [
            "Lambda =  -3.6836527006626874\n",
            "Eigenvector: \n",
            "  [-0.79771667  0.01213771  0.60291027]\n"
          ]
        }
      ],
      "source": [
        "# Complete this part!\n",
        "\n",
        "abs_eigenvalues = np.abs(eigenvalues)\n",
        "max_index = np.argmax(abs_eigenvalues)\n",
        "Lambda = eigenvalues[max_index]\n",
        "v = eigenvectors[:, max_index]\n",
        "\n",
        "print(\"Lambda = \", Lambda)\n",
        "print(\"Eigenvector: \\n \", v)"
      ]
    },
    {
      "cell_type": "markdown",
      "metadata": {
        "id": "UYRFKEV1jgLB"
      },
      "source": [
        "<div dir = rtl>\n",
        "تاکنون توانستیم بزرگترین مقدار ویژه (از لحاظ قدر مطلق) و بردار ویژه متناظر آن را به دست آوریم. حال می خواهیم از این روش برای محاسبه سایر مقادیر ویژه و بردار های ویژه ماتریس استفاده کنیم. برای این منظور توجه کنید که قطری شدنی بودن ماتریس معادل است با این که مجموع n یا کمتر ماتریس با رنک 1 باشد. رابطه زیر این امر را نشان می دهد:\n",
        "\n",
        "</div>\n",
        "\n",
        "\n"
      ]
    },
    {
      "cell_type": "markdown",
      "metadata": {
        "id": "csqcgzt9qdP9"
      },
      "source": [
        "![lagrida_latex_editor (1).png](data:image/png;base64,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)"
      ]
    },
    {
      "cell_type": "markdown",
      "metadata": {
        "id": "Xpygew9Grcdj"
      },
      "source": [
        "<div dir = rtl>\n",
        "در رابطه بالا 𝒰ᵢᵀ سطر i ام وارون ماتریس V است.\n",
        "در نتیجه می توان با استفاده از رابطه بالا ماتریسی را یافت که بزرگترین مقدار ویژه آن، دومین مقدار ویژه بزرگ ماتریس A باشد. در حقیقت کافی است که A منهای یک ماتریس رنک یک شود. در نتیجه با ادامه این روند می توان مقادیر ویژه و بردارهای ویژه A را به دست آورد.\n",
        "</div>\n",
        "\n",
        "<div dir = rtl>\n",
        "با توجه به نکات ذکر شده در قسمت قبل در قسمت زیر تابعی را بنویسید که با گرفتن ماتریس مربعی A یک ماتریس قطری متشابه با آن یعنی D و یک ماتریس V از بردارهای ویژه متناظر با D را برگرداند.\n",
        "</div>"
      ]
    },
    {
      "cell_type": "code",
      "execution_count": 28,
      "metadata": {
        "id": "Aaojiw2UslPL"
      },
      "outputs": [],
      "source": [
        "# Complete this part!\n",
        "\n",
        "def eigen(A):\n",
        "  # input: square matrix A\n",
        "  # output: diagonal matrix D & eigenvector matrix V\n",
        "  # NOTE: the equation \"A = V @ D @ np.linalg.inv(V)\" must hold \n",
        "\n",
        "  eigenvalues = []\n",
        "  eigenvectors = []\n",
        "  B = A.copy()\n",
        "\n",
        "  while not np.allclose(B, np.diag(np.diag(B))):\n",
        "    eigvalues_B, eigvectors_B = np.linalg.eig(B)\n",
        "\n",
        "    max_index = np.argmax(np.abs(eigvalues_B))\n",
        "\n",
        "    eigenvalues.append(eigvalues_B[max_index])\n",
        "    eigenvectors.append(eigvectors_B[:, max_index])\n",
        "\n",
        "    B -= eigvalues_B[max_index] * np.outer(eigvectors_B[:, max_index], eigvectors_B[:, max_index])\n",
        "\n",
        "  eigenvalues.extend(np.diag(B))\n",
        "\n",
        "  eigenvalues = np.array(eigenvalues)\n",
        "  eigenvectors = np.array(eigenvectors)\n",
        "\n",
        "  D = np.diag(eigenvalues)\n",
        "  V = np.column_stack(eigenvectors)\n",
        "\n",
        "  return D, V"
      ]
    },
    {
      "cell_type": "markdown",
      "metadata": {
        "id": "679X5K9gvz7H"
      },
      "source": [
        "<div dir = rtl>\n",
        "*امتیازی*\n",
        "\n",
        "\n",
        "---\n",
        "\n",
        "\n",
        "به صورت تئوری این الگوریتم را توجیه کنید\n",
        "</div>"
      ]
    }
  ],
  "metadata": {
    "colab": {
      "provenance": []
    },
    "kernelspec": {
      "display_name": "Python 3 (ipykernel)",
      "language": "python",
      "name": "python3"
    },
    "language_info": {
      "codemirror_mode": {
        "name": "ipython",
        "version": 3
      },
      "file_extension": ".py",
      "mimetype": "text/x-python",
      "name": "python",
      "nbconvert_exporter": "python",
      "pygments_lexer": "ipython3",
      "version": "3.9.7"
    }
  },
  "nbformat": 4,
  "nbformat_minor": 0
}